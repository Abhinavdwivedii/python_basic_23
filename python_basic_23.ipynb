{
  "nbformat": 4,
  "nbformat_minor": 0,
  "metadata": {
    "colab": {
      "provenance": []
    },
    "kernelspec": {
      "name": "python3",
      "display_name": "Python 3"
    },
    "language_info": {
      "name": "python"
    }
  },
  "cells": [
    {
      "cell_type": "markdown",
      "source": [
        "#Question1-)What is the result of the code, and why?\n",
        "####>>> def func(a, b=6, c=8): print(a, b, c) >>> func(1, 2)"
      ],
      "metadata": {
        "id": "1ALd9yreVN1f"
      }
    },
    {
      "cell_type": "code",
      "execution_count": 1,
      "metadata": {
        "colab": {
          "base_uri": "https://localhost:8080/"
        },
        "id": "KjlHfUvOVIuv",
        "outputId": "86c5fbaa-5cb0-4c58-b4a4-792056c60175"
      },
      "outputs": [
        {
          "output_type": "stream",
          "name": "stdout",
          "text": [
            "1 2 8\n"
          ]
        }
      ],
      "source": [
        "def func(a,b=6,c=8):\n",
        "  print(a,b,c)\n",
        "func(1,2)\n"
      ]
    },
    {
      "cell_type": "markdown",
      "source": [
        "#### Ans. This funtion is taking a positional argument and 2 keyward argument. When function call m=is made, parameter passed are a=1,b=2. When the function is executed , parameter c=8 will be taken by default as its a keyword argument.\n",
        "\n",
        "###solution is = 1,2,8"
      ],
      "metadata": {
        "id": "Fk3EgxQcVoAG"
      }
    },
    {
      "cell_type": "markdown",
      "source": [
        "#Question2-)What is the result of this code, and why?\n",
        "\n",
        "###>>> def func(a, b, c=5): print(a, b, c) >>> func(1, c=3, b=2)"
      ],
      "metadata": {
        "id": "8OeIIpJTVspA"
      }
    },
    {
      "cell_type": "code",
      "source": [
        "def func(a,b,c=5):\n",
        "  print(a,b,c)\n",
        "func(1,c=3,b=2)"
      ],
      "metadata": {
        "colab": {
          "base_uri": "https://localhost:8080/"
        },
        "id": "zcTd92P8Viil",
        "outputId": "04e31788-dced-4a13-a25c-b79e12b6af93"
      },
      "execution_count": 2,
      "outputs": [
        {
          "output_type": "stream",
          "name": "stdout",
          "text": [
            "1 2 3\n"
          ]
        }
      ]
    },
    {
      "cell_type": "markdown",
      "source": [
        "# Ans. When we make function call, order will be positional argument and then keywords arguments. we can pass the keyword arguments in any order we want.\n",
        "#Solution is 1,2,3"
      ],
      "metadata": {
        "id": "sRc_hhTOWQAT"
      }
    },
    {
      "cell_type": "markdown",
      "source": [
        "#Question3-)How about this code: what is its result, and why? \n",
        "###>>> def func(a, *pargs): print(a, pargs) >>> func(1, 2, 3)"
      ],
      "metadata": {
        "id": "2IBrw6NMWZ2M"
      }
    },
    {
      "cell_type": "code",
      "source": [
        "def func(a,*pargs):\n",
        "  print(a,pargs)\n",
        "func(1,2,3)"
      ],
      "metadata": {
        "colab": {
          "base_uri": "https://localhost:8080/"
        },
        "id": "S-OoAfZ-WNlt",
        "outputId": "3c647bcd-1d6e-4f8f-9f9d-db381c03d61d"
      },
      "execution_count": 3,
      "outputs": [
        {
          "output_type": "stream",
          "name": "stdout",
          "text": [
            "1 (2, 3)\n"
          ]
        }
      ]
    },
    {
      "cell_type": "markdown",
      "source": [
        "### Ans.The return type of *args parameter is tuple, where as **kargs will be dictionary\n",
        "###solution is = 1,(2,3)"
      ],
      "metadata": {
        "id": "FuS5VfH3Wuqd"
      }
    },
    {
      "cell_type": "markdown",
      "source": [
        "#Question4-) Q. What does this code print, and why?\n",
        "\n",
        "###>>> def func(a, **kargs): print(a, kargs) >>> func(a=1, c=3, b=2)"
      ],
      "metadata": {
        "id": "jo9UF4oBW6z7"
      }
    },
    {
      "cell_type": "code",
      "source": [
        "def func(a,**kargs):\n",
        "  print(a,kargs)\n",
        "func(a=1,c=3,b=2)"
      ],
      "metadata": {
        "colab": {
          "base_uri": "https://localhost:8080/"
        },
        "id": "quQoJVJPWo4v",
        "outputId": "2d6f8965-c148-4a4a-f98a-fc8ff462a0f9"
      },
      "execution_count": 4,
      "outputs": [
        {
          "output_type": "stream",
          "name": "stdout",
          "text": [
            "1 {'c': 3, 'b': 2}\n"
          ]
        }
      ]
    },
    {
      "cell_type": "markdown",
      "source": [
        "###Ans. The return type of  **kargs is  dictionary\n",
        "###solution is = 1,{'c':3,'b':2}"
      ],
      "metadata": {
        "id": "JyRm3WMUXUET"
      }
    },
    {
      "cell_type": "markdown",
      "source": [
        "#Question5-)What gets printed by this, and explain?\n",
        "###>>> def func(a, b, c=8, d=5): print(a, b, c, d) >>> func(1, *(5, 6))"
      ],
      "metadata": {
        "id": "BnxpVAq7XZhb"
      }
    },
    {
      "cell_type": "code",
      "source": [
        "def func(a,b,c=8,d=5):\n",
        "  print(a,b,c,d)\n",
        "func(1,*(5,6))"
      ],
      "metadata": {
        "colab": {
          "base_uri": "https://localhost:8080/"
        },
        "id": "7pzj8Lr8XN6u",
        "outputId": "4fc0bb5c-b6f4-4f6f-eb35-fabf0414728f"
      },
      "execution_count": 5,
      "outputs": [
        {
          "output_type": "stream",
          "name": "stdout",
          "text": [
            "1 5 6 5\n"
          ]
        }
      ]
    },
    {
      "cell_type": "markdown",
      "source": [
        "### * is the unpacking operator and are operators that unpack the values from iterable objects in Python. The single asterisk operator * can be used on any iterable that Python provides, while the double asterisk operator ** can only be used on dictionaries. In the example the value *(5,6) will be unpacked and will be assigned to b and c and passed as arguments, d =5 will taken by defaults are keyword arguments.\n",
        "\n",
        "  ###  Solution 1,5,6,5"
      ],
      "metadata": {
        "id": "dtBHpScpX6LF"
      }
    },
    {
      "cell_type": "markdown",
      "source": [
        "#Question6-)what is the result of this, and explain?\n",
        "\n",
        "#####>>> def func(a, b, c): a = 2; b[0] = 'x'; c['a'] = 'y' >>> l=1; m=[1]; n={'a':0} >>> func(l, m, n)\n",
        "\n",
        "#####>>> l, m, n"
      ],
      "metadata": {
        "id": "HhcFSpytYNr8"
      }
    },
    {
      "cell_type": "code",
      "source": [
        "def func(a, b, c): \n",
        "    a = 2; b[0] = 'x'; c['a'] = 'y'\n",
        "    \n",
        "l=1; m=[1]; n={'a':0}\n",
        "func(l, m, n)\n",
        "\n",
        "l, m, n"
      ],
      "metadata": {
        "colab": {
          "base_uri": "https://localhost:8080/"
        },
        "id": "cDJDyyr2Xxqt",
        "outputId": "05020e8c-cff1-43b2-f65e-3d93cc653860"
      },
      "execution_count": 6,
      "outputs": [
        {
          "output_type": "execute_result",
          "data": {
            "text/plain": [
              "(1, ['x'], {'a': 'y'})"
            ]
          },
          "metadata": {},
          "execution_count": 6
        }
      ]
    },
    {
      "cell_type": "markdown",
      "source": [
        "#### Ans. Here in the code, the list and dict are passed as argument, and those are mutable. Here the list l and parameter b point to the same list in the memory location where as dict n and c point to the same memory location. Any updates to this list will update in the memory location\n",
        "\n",
        "####l = 1 , integer values, immutable, m is list, mutable, n is dict, mutable.\n",
        "#####output will be = 1,['x'],{'a':'y'}"
      ],
      "metadata": {
        "id": "tHiujinMYddc"
      }
    },
    {
      "cell_type": "code",
      "source": [],
      "metadata": {
        "id": "1bH2WN5wYZGO"
      },
      "execution_count": 7,
      "outputs": []
    },
    {
      "cell_type": "code",
      "source": [],
      "metadata": {
        "id": "Gj53cC45YbyT"
      },
      "execution_count": null,
      "outputs": []
    }
  ]
}